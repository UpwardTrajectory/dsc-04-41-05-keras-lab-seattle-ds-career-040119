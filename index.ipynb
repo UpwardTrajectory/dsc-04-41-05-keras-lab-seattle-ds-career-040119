{
 "cells": [
  {
   "cell_type": "markdown",
   "metadata": {},
   "source": [
    "# Keras - Lab\n",
    "\n",
    "## Introduction\n",
    "\n",
    "In this lab you'll once again build a neural network but this time with much less production time since we will be using Keras to do a lot of the heavy lifting building blocks which we coded from hand previously.  Our use case will be classifying Bank complaints.\n",
    "\n",
    "\n",
    "## Objectives\n",
    "\n",
    "You will be able to:\n",
    "* Build a neural network using Keras"
   ]
  },
  {
   "cell_type": "markdown",
   "metadata": {},
   "source": [
    "## Loading Required Packages\n",
    "\n",
    "Here we'll import all of the various packages that we'll use in this code along. We'll point out where these imports were used as they come up in the lab."
   ]
  },
  {
   "cell_type": "code",
   "execution_count": 1,
   "metadata": {},
   "outputs": [
    {
     "name": "stderr",
     "output_type": "stream",
     "text": [
      "Using TensorFlow backend.\n"
     ]
    }
   ],
   "source": [
    "import matplotlib.pyplot as plt\n",
    "import pandas as pd\n",
    "import numpy as np\n",
    "import random\n",
    "from sklearn.model_selection import train_test_split\n",
    "from keras.utils.np_utils import to_categorical\n",
    "from sklearn import preprocessing\n",
    "from keras.preprocessing.text import Tokenizer\n",
    "from keras import models\n",
    "from keras import layers\n",
    "from keras import optimizers"
   ]
  },
  {
   "cell_type": "markdown",
   "metadata": {},
   "source": [
    "## Loading the data\n",
    "\n",
    "As usual, we will start our data science process by importing the data itself.  \n",
    "Load and preview as a pandas dataframe.   \n",
    "The data is stored in a file **Bank_complaints.csv**."
   ]
  },
  {
   "cell_type": "code",
   "execution_count": 2,
   "metadata": {},
   "outputs": [],
   "source": [
    "df = pd.read_csv('Bank_complaints.csv')"
   ]
  },
  {
   "cell_type": "markdown",
   "metadata": {},
   "source": [
    "## Further Preview of the Categories\n",
    "\n",
    "As we said, our task here is to categorize banking complaints into various predefined categories. Preview what these categories are and what percent of the complaints each accounts for."
   ]
  },
  {
   "cell_type": "code",
   "execution_count": 3,
   "metadata": {},
   "outputs": [
    {
     "data": {
      "text/plain": [
       "Student loan                   19\n",
       "Credit card                    15\n",
       "Consumer Loan                  15\n",
       "Mortgage                       13\n",
       "Bank account or service        13\n",
       "Credit reporting               11\n",
       "Checking or savings account    10\n",
       "Name: Product, dtype: int64"
      ]
     },
     "execution_count": 3,
     "metadata": {},
     "output_type": "execute_result"
    }
   ],
   "source": [
    "100 * df['Product'].value_counts() // len(df)"
   ]
  },
  {
   "cell_type": "markdown",
   "metadata": {},
   "source": [
    "## Preprocessing\n",
    "\n",
    "Before we build our neural network, we need to do several preprocessing steps. First, we will create word vector counts (a bag of words type representation) of our complaints text. Next, we will change the category labels to integers. Finally, we will perform our usual train-test split before building and training our neural network using Keras. With that, let's start munging our data!"
   ]
  },
  {
   "cell_type": "markdown",
   "metadata": {},
   "source": [
    "## One-hot encoding of the complaints\n",
    "\n",
    "Our first step again is to transform our textual data into a numerical representation. As we've started to see in some of our previous lessons on NLP, there are many ways to do this. Here, we'll use the `Tokenizer` method from the `preprocessing` module of the Keras package.   \n",
    "\n",
    "As with our previous work using NLTK, this will transform our text complaints into word vectors. (Note that the method of creating a vector is different from our previous work with NLTK; as you'll see, word order will be preserved as oppossed to a bag of words representation. In the below code, we'll only keep the 2,000 most common words and use one-hot encoding.\n",
    "\n",
    "Note that the code block below takes advantage of the following package import from our first code cell above.  \n",
    "`from keras.preprocessing.text import Tokenizer`"
   ]
  },
  {
   "cell_type": "code",
   "execution_count": 4,
   "metadata": {},
   "outputs": [],
   "source": [
    "#As a quick preliminary, briefly review the docstring for the Keras.preprocessing.text.Tokenizer method:\n",
    "Tokenizer?"
   ]
  },
  {
   "cell_type": "code",
   "execution_count": 5,
   "metadata": {},
   "outputs": [
    {
     "name": "stdout",
     "output_type": "stream",
     "text": [
      "sequences type: <class 'list'>\n",
      "one_hot_results type: <class 'numpy.ndarray'>\n",
      "Found 50110 unique tokens.\n",
      "Dimensions of our coded results: (60000, 2000)\n"
     ]
    }
   ],
   "source": [
    "#Now onto the actual code recipe...\n",
    "complaints = df[\"Consumer complaint narrative\"] #Our raw text complaints\n",
    "\n",
    "tokenizer = Tokenizer(num_words=2000) #Initialize a tokenizer.\n",
    "\n",
    "tokenizer.fit_on_texts(complaints) #Fit it to the complaints\n",
    "\n",
    "sequences = tokenizer.texts_to_sequences(complaints) #Generate sequences\n",
    "print('sequences type:', type(sequences))\n",
    "\n",
    "one_hot_results= tokenizer.texts_to_matrix(complaints, mode='binary') #Similar to sequences, but returns a numpy array\n",
    "print('one_hot_results type:', type(one_hot_results))\n",
    "\n",
    "word_index = tokenizer.word_index #Useful if we wish to decode (more explanation below)\n",
    "\n",
    "print('Found %s unique tokens.' % len(word_index)) #Tokens are the number of unique words across the corpus\n",
    "\n",
    "\n",
    "print('Dimensions of our coded results:', np.shape(one_hot_results)) #Our coded data"
   ]
  },
  {
   "cell_type": "markdown",
   "metadata": {},
   "source": [
    "## Decoding our Word Vectors\n",
    "As a note, you can also decode these vectorized representations of the reviews. The `word_index` variable, defined above, stores the mapping from the label number to the actual word. Somewhat tediously, we can turn this dictionary inside out and map it back to our word vectors, giving us roughly the original complaint back. (As you'll see, the text won't be identical as we limited ourselves to 200 words.)"
   ]
  },
  {
   "cell_type": "markdown",
   "metadata": {},
   "source": [
    "## Python Review / Mini Challenge\n",
    "\n",
    "While a bit tangential to our main topic of interest, we need to reverse our current dictionary `word_index` which maps words from our corpus to integers. In decoding our one_hot_results, we will need to create a dictionary of these integers to the original words. Below, take the `word_index` dictionary object and change the orientation so that the values are keys and the keys values. In other words, you are transforming something of the form {A:1, B:2, C:3} to {1:A, 2:B, 3:C}"
   ]
  },
  {
   "cell_type": "code",
   "execution_count": 6,
   "metadata": {},
   "outputs": [],
   "source": [
    "#Your code here\n",
    "reverse_index = {v:k for k, v in word_index.items()}"
   ]
  },
  {
   "cell_type": "markdown",
   "metadata": {},
   "source": [
    "## Back to Decoding Our Word Vectors..."
   ]
  },
  {
   "cell_type": "code",
   "execution_count": 7,
   "metadata": {},
   "outputs": [
    {
     "name": "stdout",
     "output_type": "stream",
     "text": [
      "Original complaint text:\n",
      "I have already filed several complaints about AES/PHEAA. I was notified by a XXXX XXXX let @ XXXX, who pretended to be from your office, he said he was from CFPB. I found out this morning he is n't from your office, but is actually works at XXXX. \n",
      "\n",
      "This has wasted weeks of my time. They AES/PHEAA confirmed and admitted ( see attached transcript of XXXX, conversation at XXXX ( XXXX ) with XXXX that proves they verified the loans are not mine ) the student loans they had XXXX, and collected on, and reported negate credit reporting in my name are in fact, not mine. \n",
      "They conclued their investigation on XXXX admitting they made a mistake and have my name on soneone elses loans. I these XXXX loans total {$10000.00}, original amount. My XXXX loans I got was total {$3500.00}. We proved by providing AES/PHEAA, this with my original promissary notes I located recently, the XXXX of my college provided AES/PHEAA with their original shoeinf amounts of my XXXX loans which show different dates and amounts, the dates and amounts are not even close to matching these loans they have in my name, The original lender, XXXX XXXX Bank notifying AES/PHEAA, they never issued me a student loan, and original Loan Guarantor, XXXX, notifying AES/PHEAA, they never were guarantor of my loans. \n",
      "\n",
      "XXXX straight forward. But today, this person, XXXX XXXX, told me they know these loans are not mine, and they refuse to remove my name off these XXXX loan 's and correct their mistake, essentially forcing me to pay these loans off, bucause in XXXX they sold the loans to XXXX loans. \n",
      "\n",
      "This is absurd, first protruding to be this office, and then refusing to correct their mistake. \n",
      "\n",
      "Please for the love of XXXX will soneone from your office call me at XXXX, today. I am a XXXX vet and they are knowingly discriminating against me. \n",
      "Pretending to be you.\n",
      "\n",
      "\n",
      "\n",
      "Decoded review from Tokenizer:\n",
      "i have already filed several complaints about aes i was notified by a xxxx xxxx let xxxx who to be from your office he said he was from cfpb i found out this morning he is n't from your office but is actually works at xxxx this has weeks of my time they aes confirmed and admitted see attached of xxxx conversation at xxxx xxxx with xxxx that they verified the loans are not mine the student loans they had xxxx and on and reported credit reporting in my name are in fact not mine they their investigation on xxxx they made a mistake and have my name on loans i these xxxx loans total 10000 00 original amount my xxxx loans i got was total 00 we by providing aes this with my original notes i located recently the xxxx of my college provided aes with their original amounts of my xxxx loans which show different dates and amounts the dates and amounts are not even close to these loans they have in my name the original lender xxxx xxxx bank notifying aes they never issued me a student loan and original loan xxxx notifying aes they never were of my loans xxxx forward but today this person xxxx xxxx told me they know these loans are not mine and they refuse to remove my name off these xxxx loan 's and correct their mistake essentially me to pay these loans off in xxxx they sold the loans to xxxx loans this is first to be this office and then refusing to correct their mistake please for the of xxxx will from your office call me at xxxx today i am a xxxx and they are against me to be you\n"
     ]
    }
   ],
   "source": [
    "comment_idx_to_preview = 19\n",
    "print('Original complaint text:')\n",
    "print(complaints[comment_idx_to_preview])\n",
    "print('\\n\\n')\n",
    "\n",
    "#The reverse_index cell block above must be complete in order for this cell block to successively execute.\n",
    "decoded_review = ' '.join([reverse_index.get(i) for i in sequences[comment_idx_to_preview]])\n",
    "print('Decoded review from Tokenizer:')\n",
    "print(decoded_review)"
   ]
  },
  {
   "cell_type": "markdown",
   "metadata": {},
   "source": [
    "## Convert the Products to Numerical Categories\n",
    "\n",
    "On to step two of our preprocessing: converting our descriptive categories into integers."
   ]
  },
  {
   "cell_type": "code",
   "execution_count": 8,
   "metadata": {},
   "outputs": [
    {
     "name": "stdout",
     "output_type": "stream",
     "text": [
      "Original class labels:\n",
      "['Bank account or service', 'Checking or savings account', 'Consumer Loan', 'Credit card', 'Credit reporting', 'Mortgage', 'Student loan']\n",
      "\n",
      "\n",
      "New product labels:\n",
      "[6 6 6 ... 4 4 4]\n",
      "\n",
      "\n",
      "One hot labels; 7 binary columns, one for each of the categories.\n",
      "[[0. 0. 0. ... 0. 0. 1.]\n",
      " [0. 0. 0. ... 0. 0. 1.]\n",
      " [0. 0. 0. ... 0. 0. 1.]\n",
      " ...\n",
      " [0. 0. 0. ... 1. 0. 0.]\n",
      " [0. 0. 0. ... 1. 0. 0.]\n",
      " [0. 0. 0. ... 1. 0. 0.]]\n",
      "\n",
      "\n",
      "One hot labels shape:\n",
      "(60000, 7)\n"
     ]
    }
   ],
   "source": [
    "product = df[\"Product\"]\n",
    "\n",
    "le = preprocessing.LabelEncoder() #Initialize. le used as abbreviation fo label encoder\n",
    "le.fit(product)\n",
    "print(\"Original class labels:\")\n",
    "print(list(le.classes_))\n",
    "print('\\n')\n",
    "product_cat = le.transform(product)  \n",
    "#list(le.inverse_transform([0, 1, 3, 3, 0, 6, 4])) #If you wish to retrieve the original descriptive labels post production\n",
    "\n",
    "print('New product labels:')\n",
    "print(product_cat)\n",
    "print('\\n')\n",
    "\n",
    "\n",
    "print('One hot labels; 7 binary columns, one for each of the categories.') #Each row will be all zeros except for the category for that observation.\n",
    "product_onehot = to_categorical(product_cat)\n",
    "print(product_onehot)\n",
    "print('\\n')\n",
    "\n",
    "print('One hot labels shape:')\n",
    "print(np.shape(product_onehot))"
   ]
  },
  {
   "cell_type": "markdown",
   "metadata": {},
   "source": [
    "## Train - test split\n",
    "\n",
    "Now for our final preprocessing step: the usual train-test split."
   ]
  },
  {
   "cell_type": "code",
   "execution_count": 9,
   "metadata": {},
   "outputs": [
    {
     "name": "stdout",
     "output_type": "stream",
     "text": [
      "Test label shape: (1500, 7)\n",
      "Train label shape: (58500, 7)\n",
      "Test shape: (1500, 2000)\n",
      "Train shape: (58500, 2000)\n"
     ]
    }
   ],
   "source": [
    "import random\n",
    "random.seed(123)\n",
    "test_index = random.sample(range(1, 60000), 1500)\n",
    "\n",
    "test = one_hot_results[test_index]\n",
    "train = np.delete(one_hot_results, test_index, 0)\n",
    "\n",
    "\n",
    "label_test = product_onehot[test_index]\n",
    "label_train = np.delete(product_onehot, test_index, 0)\n",
    "\n",
    "print(\"Test label shape:\", np.shape(label_test))\n",
    "print(\"Train label shape:\", np.shape(label_train))\n",
    "print(\"Test shape:\", np.shape(test))\n",
    "print(\"Train shape:\", np.shape(train))"
   ]
  },
  {
   "cell_type": "markdown",
   "metadata": {},
   "source": [
    "## Building the network"
   ]
  },
  {
   "cell_type": "markdown",
   "metadata": {},
   "source": [
    "Let's build a fully connected (Dense) layer network with relu activations in Keras. You can do this using: `Dense(16, activation='relu')`."
   ]
  },
  {
   "cell_type": "markdown",
   "metadata": {},
   "source": [
    "In this examples, use 2 hidden with 50 units in the first layer and 25 in the second, both with a `relu` activation function. Because we are dealing with a multiclass problem (classifying the complaints into 7 ), we use a use a softmax classifyer in order to output 7 class probabilities per case.  \n",
    "\n",
    "The previous imports that you'll use here are:  \n",
    "\n",
    "```from keras import models\n",
    "from keras import layers```"
   ]
  },
  {
   "cell_type": "code",
   "execution_count": 10,
   "metadata": {},
   "outputs": [],
   "source": [
    "#Your code here; initialize a sequential model with 3 layers; \n",
    "start = layers.Dense(50, activation='relu')\n",
    "layer = layers.Dense(25, activation='relu')\n",
    "final = layers.Dense(7, activation='sigmoid')\n",
    "model = models.Sequential()\n",
    "#two hidden relu and the final classification output using softmax\n",
    "model.add(start)\n",
    "model.add(layer)\n",
    "model.add(final)"
   ]
  },
  {
   "cell_type": "markdown",
   "metadata": {},
   "source": [
    "## Compiling the model and look at the results\n",
    "\n",
    "Now, compile the model! This time, use `'categorical_crossentropy'` as the loss function and stochastic gradient descent, `'SGD'` as the optimizer. As in the previous lesson, include the accuracy as a metric."
   ]
  },
  {
   "cell_type": "code",
   "execution_count": 11,
   "metadata": {},
   "outputs": [],
   "source": [
    "model.compile(optimizer='SGD', loss='categorical_crossentropy', metrics=['accuracy'])"
   ]
  },
  {
   "cell_type": "markdown",
   "metadata": {},
   "source": [
    "## Training the model\n",
    "\n",
    "In the compiler, you'll be passing the optimizer (SGD = stochastic gradient descent), loss function, and metrics. Train the model for 120 epochs in mini-batches of 256 samples."
   ]
  },
  {
   "cell_type": "code",
   "execution_count": 12,
   "metadata": {},
   "outputs": [
    {
     "data": {
      "text/plain": [
       "(58500, 2000)"
      ]
     },
     "execution_count": 12,
     "metadata": {},
     "output_type": "execute_result"
    }
   ],
   "source": [
    "train.shape"
   ]
  },
  {
   "cell_type": "code",
   "execution_count": 15,
   "metadata": {},
   "outputs": [
    {
     "name": "stdout",
     "output_type": "stream",
     "text": [
      "Epoch 1/120\n",
      "58500/58500 [==============================] - 2s 26us/step - loss: 0.3295 - acc: 0.8837\n",
      "Epoch 2/120\n",
      "58500/58500 [==============================] - 1s 25us/step - loss: 0.3285 - acc: 0.8837\n",
      "Epoch 3/120\n",
      "58500/58500 [==============================] - 1s 24us/step - loss: 0.3276 - acc: 0.8852\n",
      "Epoch 4/120\n",
      "58500/58500 [==============================] - 2s 26us/step - loss: 0.3272 - acc: 0.8842\n",
      "Epoch 5/120\n",
      "58500/58500 [==============================] - 2s 29us/step - loss: 0.3260 - acc: 0.8854\n",
      "Epoch 6/120\n",
      "58500/58500 [==============================] - 2s 26us/step - loss: 0.3251 - acc: 0.8852\n",
      "Epoch 7/120\n",
      "58500/58500 [==============================] - 1s 24us/step - loss: 0.3240 - acc: 0.8860\n",
      "Epoch 8/120\n",
      "58500/58500 [==============================] - 2s 27us/step - loss: 0.3232 - acc: 0.8863\n",
      "Epoch 9/120\n",
      "58500/58500 [==============================] - 1s 25us/step - loss: 0.3222 - acc: 0.8868\n",
      "Epoch 10/120\n",
      "58500/58500 [==============================] - 1s 24us/step - loss: 0.3214 - acc: 0.8861\n",
      "Epoch 11/120\n",
      "58500/58500 [==============================] - 2s 26us/step - loss: 0.3205 - acc: 0.8872\n",
      "Epoch 12/120\n",
      "58500/58500 [==============================] - 1s 25us/step - loss: 0.3194 - acc: 0.8881\n",
      "Epoch 13/120\n",
      "58500/58500 [==============================] - 2s 27us/step - loss: 0.3185 - acc: 0.8881\n",
      "Epoch 14/120\n",
      "58500/58500 [==============================] - 1s 24us/step - loss: 0.3180 - acc: 0.8880\n",
      "Epoch 15/120\n",
      "58500/58500 [==============================] - 2s 27us/step - loss: 0.3171 - acc: 0.8887\n",
      "Epoch 16/120\n",
      "58500/58500 [==============================] - 1s 23us/step - loss: 0.3163 - acc: 0.8888\n",
      "Epoch 17/120\n",
      "58500/58500 [==============================] - 1s 23us/step - loss: 0.3154 - acc: 0.8899\n",
      "Epoch 18/120\n",
      "58500/58500 [==============================] - 2s 26us/step - loss: 0.3141 - acc: 0.8901\n",
      "Epoch 19/120\n",
      "58500/58500 [==============================] - 2s 28us/step - loss: 0.3137 - acc: 0.8896\n",
      "Epoch 20/120\n",
      "58500/58500 [==============================] - 1s 25us/step - loss: 0.3122 - acc: 0.8907\n",
      "Epoch 21/120\n",
      "58500/58500 [==============================] - 1s 23us/step - loss: 0.3114 - acc: 0.8912\n",
      "Epoch 22/120\n",
      "58500/58500 [==============================] - 2s 28us/step - loss: 0.3103 - acc: 0.8915\n",
      "Epoch 23/120\n",
      "58500/58500 [==============================] - 1s 25us/step - loss: 0.3096 - acc: 0.8915\n",
      "Epoch 24/120\n",
      "58500/58500 [==============================] - 1s 25us/step - loss: 0.3087 - acc: 0.8923\n",
      "Epoch 25/120\n",
      "58500/58500 [==============================] - 2s 28us/step - loss: 0.3085 - acc: 0.8926\n",
      "Epoch 26/120\n",
      "58500/58500 [==============================] - 2s 29us/step - loss: 0.3072 - acc: 0.8933\n",
      "Epoch 27/120\n",
      "58500/58500 [==============================] - 1s 25us/step - loss: 0.3061 - acc: 0.8942\n",
      "Epoch 28/120\n",
      "58500/58500 [==============================] - 2s 28us/step - loss: 0.3049 - acc: 0.8942\n",
      "Epoch 29/120\n",
      "58500/58500 [==============================] - 1s 24us/step - loss: 0.3042 - acc: 0.8942\n",
      "Epoch 30/120\n",
      "58500/58500 [==============================] - 1s 24us/step - loss: 0.3034 - acc: 0.8940\n",
      "Epoch 31/120\n",
      "58500/58500 [==============================] - 2s 26us/step - loss: 0.3023 - acc: 0.8948\n",
      "Epoch 32/120\n",
      "58500/58500 [==============================] - 2s 26us/step - loss: 0.3013 - acc: 0.8956\n",
      "Epoch 33/120\n",
      "58500/58500 [==============================] - 2s 26us/step - loss: 0.3002 - acc: 0.8967\n",
      "Epoch 34/120\n",
      "58500/58500 [==============================] - 1s 24us/step - loss: 0.2994 - acc: 0.8965\n",
      "Epoch 35/120\n",
      "58500/58500 [==============================] - 2s 26us/step - loss: 0.2989 - acc: 0.8963\n",
      "Epoch 36/120\n",
      "58500/58500 [==============================] - 1s 24us/step - loss: 0.2971 - acc: 0.8976\n",
      "Epoch 37/120\n",
      "58500/58500 [==============================] - 1s 24us/step - loss: 0.2965 - acc: 0.8981\n",
      "Epoch 38/120\n",
      "58500/58500 [==============================] - 2s 27us/step - loss: 0.2963 - acc: 0.8980\n",
      "Epoch 39/120\n",
      "58500/58500 [==============================] - 2s 27us/step - loss: 0.2950 - acc: 0.8992\n",
      "Epoch 40/120\n",
      "58500/58500 [==============================] - 1s 25us/step - loss: 0.2938 - acc: 0.8996\n",
      "Epoch 41/120\n",
      "58500/58500 [==============================] - 1s 23us/step - loss: 0.2924 - acc: 0.8995\n",
      "Epoch 42/120\n",
      "58500/58500 [==============================] - 2s 27us/step - loss: 0.2921 - acc: 0.8994\n",
      "Epoch 43/120\n",
      "58500/58500 [==============================] - 1s 24us/step - loss: 0.2907 - acc: 0.9003\n",
      "Epoch 44/120\n",
      "58500/58500 [==============================] - 1s 25us/step - loss: 0.2902 - acc: 0.9015\n",
      "Epoch 45/120\n",
      "58500/58500 [==============================] - 2s 28us/step - loss: 0.2887 - acc: 0.9010\n",
      "Epoch 46/120\n",
      "58500/58500 [==============================] - 2s 28us/step - loss: 0.2884 - acc: 0.9018\n",
      "Epoch 47/120\n",
      "58500/58500 [==============================] - 1s 24us/step - loss: 0.2868 - acc: 0.9023\n",
      "Epoch 48/120\n",
      "58500/58500 [==============================] - 2s 28us/step - loss: 0.2857 - acc: 0.9025\n",
      "Epoch 49/120\n",
      "58500/58500 [==============================] - 1s 24us/step - loss: 0.2853 - acc: 0.9026\n",
      "Epoch 50/120\n",
      "58500/58500 [==============================] - 1s 24us/step - loss: 0.2838 - acc: 0.9041\n",
      "Epoch 51/120\n",
      "58500/58500 [==============================] - 2s 26us/step - loss: 0.2834 - acc: 0.9035\n",
      "Epoch 52/120\n",
      "58500/58500 [==============================] - 2s 27us/step - loss: 0.2816 - acc: 0.9043\n",
      "Epoch 53/120\n",
      "58500/58500 [==============================] - 2s 28us/step - loss: 0.2803 - acc: 0.9051\n",
      "Epoch 54/120\n",
      "58500/58500 [==============================] - 1s 25us/step - loss: 0.2803 - acc: 0.9052\n",
      "Epoch 55/120\n",
      "58500/58500 [==============================] - 2s 27us/step - loss: 0.2788 - acc: 0.9057\n",
      "Epoch 56/120\n",
      "58500/58500 [==============================] - 1s 24us/step - loss: 0.2775 - acc: 0.9062\n",
      "Epoch 57/120\n",
      "58500/58500 [==============================] - 1s 24us/step - loss: 0.2773 - acc: 0.9064\n",
      "Epoch 58/120\n",
      "58500/58500 [==============================] - 2s 26us/step - loss: 0.2761 - acc: 0.9072\n",
      "Epoch 59/120\n",
      "58500/58500 [==============================] - 2s 27us/step - loss: 0.2748 - acc: 0.9074\n",
      "Epoch 60/120\n",
      "58500/58500 [==============================] - 1s 26us/step - loss: 0.2737 - acc: 0.9076\n",
      "Epoch 61/120\n",
      "58500/58500 [==============================] - 1s 24us/step - loss: 0.2728 - acc: 0.9074\n",
      "Epoch 62/120\n",
      "58500/58500 [==============================] - 2s 28us/step - loss: 0.2717 - acc: 0.9089\n",
      "Epoch 63/120\n",
      "58500/58500 [==============================] - 1s 24us/step - loss: 0.2699 - acc: 0.9093\n",
      "Epoch 64/120\n",
      "58500/58500 [==============================] - 1s 25us/step - loss: 0.2692 - acc: 0.9105\n",
      "Epoch 65/120\n",
      "58500/58500 [==============================] - 2s 27us/step - loss: 0.2688 - acc: 0.9099\n",
      "Epoch 66/120\n",
      "58500/58500 [==============================] - 2s 30us/step - loss: 0.2669 - acc: 0.9115\n",
      "Epoch 67/120\n",
      "58500/58500 [==============================] - 1s 25us/step - loss: 0.2663 - acc: 0.9113\n",
      "Epoch 68/120\n",
      "58500/58500 [==============================] - 2s 26us/step - loss: 0.2653 - acc: 0.9118\n",
      "Epoch 69/120\n",
      "58500/58500 [==============================] - 1s 25us/step - loss: 0.2647 - acc: 0.9118\n",
      "Epoch 70/120\n",
      "58500/58500 [==============================] - 1s 24us/step - loss: 0.2631 - acc: 0.9125\n",
      "Epoch 71/120\n",
      "58500/58500 [==============================] - 2s 27us/step - loss: 0.2622 - acc: 0.9124\n",
      "Epoch 72/120\n",
      "58500/58500 [==============================] - 2s 26us/step - loss: 0.2606 - acc: 0.9137\n",
      "Epoch 73/120\n",
      "58500/58500 [==============================] - 2s 26us/step - loss: 0.2596 - acc: 0.9141\n",
      "Epoch 74/120\n",
      "58500/58500 [==============================] - 1s 24us/step - loss: 0.2591 - acc: 0.9142\n",
      "Epoch 75/120\n",
      "58500/58500 [==============================] - 2s 27us/step - loss: 0.2578 - acc: 0.9143\n",
      "Epoch 76/120\n",
      "58500/58500 [==============================] - 1s 24us/step - loss: 0.2563 - acc: 0.9153\n",
      "Epoch 77/120\n",
      "58500/58500 [==============================] - 1s 25us/step - loss: 0.2550 - acc: 0.9164\n",
      "Epoch 78/120\n",
      "58500/58500 [==============================] - 2s 27us/step - loss: 0.2537 - acc: 0.9169\n",
      "Epoch 79/120\n",
      "58500/58500 [==============================] - 2s 29us/step - loss: 0.2533 - acc: 0.9166\n",
      "Epoch 80/120\n",
      "58500/58500 [==============================] - 1s 25us/step - loss: 0.2519 - acc: 0.9175\n",
      "Epoch 81/120\n"
     ]
    },
    {
     "name": "stdout",
     "output_type": "stream",
     "text": [
      "58500/58500 [==============================] - 2s 29us/step - loss: 0.2502 - acc: 0.9187\n",
      "Epoch 82/120\n",
      "58500/58500 [==============================] - 1s 24us/step - loss: 0.2489 - acc: 0.9181\n",
      "Epoch 83/120\n",
      "58500/58500 [==============================] - 1s 24us/step - loss: 0.2481 - acc: 0.9196\n",
      "Epoch 84/120\n",
      "58500/58500 [==============================] - 1s 25us/step - loss: 0.2476 - acc: 0.9199\n",
      "Epoch 85/120\n",
      "58500/58500 [==============================] - 2s 30us/step - loss: 0.2462 - acc: 0.9200\n",
      "Epoch 86/120\n",
      "58500/58500 [==============================] - 2s 26us/step - loss: 0.2452 - acc: 0.9211\n",
      "Epoch 87/120\n",
      "58500/58500 [==============================] - 1s 24us/step - loss: 0.2443 - acc: 0.9203\n",
      "Epoch 88/120\n",
      "58500/58500 [==============================] - 2s 27us/step - loss: 0.2432 - acc: 0.9211\n",
      "Epoch 89/120\n",
      "58500/58500 [==============================] - 1s 25us/step - loss: 0.2420 - acc: 0.9223\n",
      "Epoch 90/120\n",
      "58500/58500 [==============================] - 1s 24us/step - loss: 0.2410 - acc: 0.9223\n",
      "Epoch 91/120\n",
      "58500/58500 [==============================] - 2s 26us/step - loss: 0.2394 - acc: 0.9235\n",
      "Epoch 92/120\n",
      "58500/58500 [==============================] - 2s 27us/step - loss: 0.2382 - acc: 0.9238\n",
      "Epoch 93/120\n",
      "58500/58500 [==============================] - 2s 28us/step - loss: 0.2373 - acc: 0.9246\n",
      "Epoch 94/120\n",
      "58500/58500 [==============================] - 2s 27us/step - loss: 0.2361 - acc: 0.9243\n",
      "Epoch 95/120\n",
      "58500/58500 [==============================] - 1s 26us/step - loss: 0.2348 - acc: 0.9253\n",
      "Epoch 96/120\n",
      "58500/58500 [==============================] - 1s 25us/step - loss: 0.2340 - acc: 0.9249\n",
      "Epoch 97/120\n",
      "58500/58500 [==============================] - 2s 26us/step - loss: 0.2330 - acc: 0.9258\n",
      "Epoch 98/120\n",
      "58500/58500 [==============================] - 2s 27us/step - loss: 0.2331 - acc: 0.9247\n",
      "Epoch 99/120\n",
      "58500/58500 [==============================] - 2s 26us/step - loss: 0.2310 - acc: 0.9265\n",
      "Epoch 100/120\n",
      "58500/58500 [==============================] - 1s 25us/step - loss: 0.2292 - acc: 0.9274\n",
      "Epoch 101/120\n",
      "58500/58500 [==============================] - 2s 27us/step - loss: 0.2289 - acc: 0.9288\n",
      "Epoch 102/120\n",
      "58500/58500 [==============================] - 1s 26us/step - loss: 0.2280 - acc: 0.9276\n",
      "Epoch 103/120\n",
      "58500/58500 [==============================] - 1s 25us/step - loss: 0.2264 - acc: 0.9286\n",
      "Epoch 104/120\n",
      "58500/58500 [==============================] - 2s 28us/step - loss: 0.2254 - acc: 0.9289\n",
      "Epoch 105/120\n",
      "58500/58500 [==============================] - 2s 29us/step - loss: 0.2236 - acc: 0.9298\n",
      "Epoch 106/120\n",
      "58500/58500 [==============================] - 1s 25us/step - loss: 0.2225 - acc: 0.9307\n",
      "Epoch 107/120\n",
      "58500/58500 [==============================] - 1s 25us/step - loss: 0.2224 - acc: 0.9300\n",
      "Epoch 108/120\n",
      "58500/58500 [==============================] - 2s 27us/step - loss: 0.2216 - acc: 0.9303\n",
      "Epoch 109/120\n",
      "58500/58500 [==============================] - 2s 26us/step - loss: 0.2186 - acc: 0.9318\n",
      "Epoch 110/120\n",
      "58500/58500 [==============================] - 1s 24us/step - loss: 0.2183 - acc: 0.9322\n",
      "Epoch 111/120\n",
      "58500/58500 [==============================] - 2s 27us/step - loss: 0.2182 - acc: 0.9313\n",
      "Epoch 112/120\n",
      "58500/58500 [==============================] - 2s 27us/step - loss: 0.2163 - acc: 0.9328\n",
      "Epoch 113/120\n",
      "58500/58500 [==============================] - 1s 24us/step - loss: 0.2157 - acc: 0.9326\n",
      "Epoch 114/120\n",
      "58500/58500 [==============================] - 2s 27us/step - loss: 0.2141 - acc: 0.9337\n",
      "Epoch 115/120\n",
      "58500/58500 [==============================] - 1s 23us/step - loss: 0.2126 - acc: 0.9345\n",
      "Epoch 116/120\n",
      "58500/58500 [==============================] - 1s 24us/step - loss: 0.2119 - acc: 0.9349\n",
      "Epoch 117/120\n",
      "58500/58500 [==============================] - 2s 27us/step - loss: 0.2103 - acc: 0.9353\n",
      "Epoch 118/120\n",
      "58500/58500 [==============================] - 2s 27us/step - loss: 0.2094 - acc: 0.9352\n",
      "Epoch 119/120\n",
      "58500/58500 [==============================] - 2s 27us/step - loss: 0.2088 - acc: 0.9362\n",
      "Epoch 120/120\n",
      "58500/58500 [==============================] - 1s 25us/step - loss: 0.2069 - acc: 0.9367\n"
     ]
    }
   ],
   "source": [
    "history = model.fit(train, label_train, epochs=120, batch_size=256)"
   ]
  },
  {
   "cell_type": "markdown",
   "metadata": {},
   "source": [
    "Recall that the dictionary `history` has two entries: the loss and the accuracy achieved using the training set."
   ]
  },
  {
   "cell_type": "code",
   "execution_count": 16,
   "metadata": {},
   "outputs": [
    {
     "data": {
      "text/plain": [
       "dict_keys(['loss', 'acc'])"
      ]
     },
     "execution_count": 16,
     "metadata": {},
     "output_type": "execute_result"
    }
   ],
   "source": [
    "history_dict = history.history\n",
    "history_dict.keys()"
   ]
  },
  {
   "cell_type": "markdown",
   "metadata": {},
   "source": [
    "## Plot the results\n",
    "\n",
    "As you might expect, we'll use our ```import matplotlib.pyplot as plt``` for graphing. Use the data stored in the history_dict above to plot the loss vs epochs and the accurcay vs epochs."
   ]
  },
  {
   "cell_type": "code",
   "execution_count": 28,
   "metadata": {},
   "outputs": [
    {
     "data": {
      "text/plain": [
       "Text(0.5, 0, 'epochs beyond the first 120')"
      ]
     },
     "execution_count": 28,
     "metadata": {},
     "output_type": "execute_result"
    },
    {
     "data": {
      "image/png": "[encoded data removed]",
      "text/plain": [
       "<Figure size 432x288 with 1 Axes>"
      ]
     },
     "metadata": {
      "needs_background": "light"
     },
     "output_type": "display_data"
    }
   ],
   "source": [
    "#Your code here; plot the loss vs the number of epoch\n",
    "plt.plot(history_dict['loss'])\n",
    "plt.plot(history_dict['acc'])\n",
    "plt.legend(['loss', 'accuracy'])\n",
    "plt.xlabel('epochs beyond the first 120')"
   ]
  },
  {
   "cell_type": "code",
   "execution_count": 29,
   "metadata": {},
   "outputs": [],
   "source": [
    "#Your code here; plot the training accuracy vs the number of epochs"
   ]
  },
  {
   "cell_type": "markdown",
   "metadata": {},
   "source": [
    "It seems like we could just keep on going and accuracy would go up!"
   ]
  },
  {
   "cell_type": "markdown",
   "metadata": {},
   "source": [
    "## Make predictions\n",
    "\n",
    "Finally, it's time to output. Use the method discussed in the previous lesson to output (probability) predictions for the test set."
   ]
  },
  {
   "cell_type": "code",
   "execution_count": 37,
   "metadata": {},
   "outputs": [],
   "source": [
    "y_hat_test = model.predict_proba(test)"
   ]
  },
  {
   "cell_type": "markdown",
   "metadata": {},
   "source": [
    "## Evaluate Performance\n",
    "\n",
    "Finally, print the loss and accuracy for both the train and test sets of the final trained model."
   ]
  },
  {
   "cell_type": "code",
   "execution_count": 35,
   "metadata": {},
   "outputs": [
    {
     "data": {
      "text/plain": [
       "['loss', 'acc']"
      ]
     },
     "execution_count": 35,
     "metadata": {},
     "output_type": "execute_result"
    }
   ],
   "source": [
    "model.metrics_names"
   ]
  },
  {
   "cell_type": "code",
   "execution_count": 33,
   "metadata": {},
   "outputs": [
    {
     "name": "stdout",
     "output_type": "stream",
     "text": [
      "58500/58500 [==============================] - 2s 40us/step\n"
     ]
    },
    {
     "data": {
      "text/plain": [
       "[0.1990704112086031, 0.940923076923077]"
      ]
     },
     "execution_count": 33,
     "metadata": {},
     "output_type": "execute_result"
    }
   ],
   "source": [
    "results_train = model.evaluate(train, label_train)\n",
    "results_train"
   ]
  },
  {
   "cell_type": "code",
   "execution_count": 34,
   "metadata": {},
   "outputs": [
    {
     "name": "stdout",
     "output_type": "stream",
     "text": [
      "1500/1500 [==============================] - 0s 60us/step\n"
     ]
    },
    {
     "data": {
      "text/plain": [
       "[0.7150851548512777, 0.7886666669845581]"
      ]
     },
     "execution_count": 34,
     "metadata": {},
     "output_type": "execute_result"
    }
   ],
   "source": [
    "results_test = model.evaluate(test, label_test)\n",
    "results_test\n"
   ]
  },
  {
   "cell_type": "markdown",
   "metadata": {},
   "source": [
    "We can see that the training set results are really good (a 89.4% classification accuracy!), but the test set results lag behind. In the next lab. We'll talk a little more about this in the next lecture, and will discuss how we can get better test set results as well!"
   ]
  },
  {
   "cell_type": "markdown",
   "metadata": {},
   "source": [
    "## Additional Resources"
   ]
  },
  {
   "cell_type": "markdown",
   "metadata": {},
   "source": [
    "https://github.com/susanli2016/Machine-Learning-with-Python/blob/master/Consumer_complaints.ipynb"
   ]
  },
  {
   "cell_type": "markdown",
   "metadata": {},
   "source": [
    "https://catalog.data.gov/dataset/consumer-complaint-database"
   ]
  },
  {
   "cell_type": "markdown",
   "metadata": {},
   "source": [
    "## Summary \n",
    "\n",
    "Congratulations! In this lab, you built a neural network with much less production time thanks to the tools provided by Keras! In upcoming lessons and labs we'll continue to investigate further ideas regarding how to tune and refine these models for increased accuracy and performance."
   ]
  }
 ],
 "metadata": {
  "kernelspec": {
   "display_name": "Python 3",
   "language": "python",
   "name": "python3"
  },
  "language_info": {
   "codemirror_mode": {
    "name": "ipython",
    "version": 3
   },
   "file_extension": ".py",
   "mimetype": "text/x-python",
   "name": "python",
   "nbconvert_exporter": "python",
   "pygments_lexer": "ipython3",
   "version": "3.6.6"
  }
 },
 "nbformat": 4,
 "nbformat_minor": 2
}
